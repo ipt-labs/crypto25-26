{
 "cells": [
  {
   "cell_type": "markdown",
   "id": "765bacf5",
   "metadata": {},
   "source": [
    "Необхідні для роботи імпорти"
   ]
  },
  {
   "cell_type": "code",
   "execution_count": 1,
   "id": "da5b59d1",
   "metadata": {},
   "outputs": [],
   "source": [
    "import re, chardet, math\n",
    "from collections import Counter\n",
    "import pandas as pd"
   ]
  },
  {
   "cell_type": "markdown",
   "id": "86696485",
   "metadata": {},
   "source": [
    "Змінні, які необхідні для роботи коду"
   ]
  },
  {
   "cell_type": "code",
   "execution_count": null,
   "id": "030a65a9",
   "metadata": {},
   "outputs": [],
   "source": [
    "file_path = r\"./koran.txt\""
   ]
  },
  {
   "cell_type": "markdown",
   "id": "2b43f67c",
   "metadata": {},
   "source": [
    "Відкриваємо та форматуємо текст, щоб нам було зручно з ним працювати"
   ]
  },
  {
   "cell_type": "code",
   "execution_count": 3,
   "id": "2bdbe7e6",
   "metadata": {},
   "outputs": [
    {
     "name": "stdout",
     "output_type": "stream",
     "text": [
      "Кодування: utf-8\n",
      "Довжина з пробілами: 1665627, без пробілів: 1391512\n"
     ]
    }
   ],
   "source": [
    "with open(file_path, \"rb\") as f:\n",
    "    raw_data = f.read()\n",
    "koduvannya = chardet.detect(raw_data)[\"encoding\"]\n",
    "print(f\"Кодування: {koduvannya}\")\n",
    "\n",
    "def obrobka_text(filename, remove_spaces=False):\n",
    "    with open(filename, \"r\", encoding=koduvannya, errors=\"replace\") as file:\n",
    "        text = file.read().lower()\n",
    "    text = text.replace(\"ё\", \"е\").replace(\"ъ\", \"ь\")\n",
    "    text = re.sub(r'[^а-я ]', ' ', text)\n",
    "    text = re.sub(r'\\s+', ' ', text).strip()\n",
    "    if remove_spaces:\n",
    "        text = text.replace(\" \", \"\")\n",
    "    return text\n",
    "\n",
    "koranchik_z_probilamy = obrobka_text(file_path, remove_spaces=False)\n",
    "koranchik_bez_probiliv = obrobka_text(file_path, remove_spaces=True)\n",
    "print(f\"Довжина з пробілами: {len(koranchik_z_probilamy)}, без пробілів: {len(koranchik_bez_probiliv)}\")"
   ]
  },
  {
   "cell_type": "markdown",
   "id": "b9de3810",
   "metadata": {},
   "source": [
    "Функції для частот"
   ]
  },
  {
   "cell_type": "code",
   "execution_count": null,
   "id": "c2629099",
   "metadata": {},
   "outputs": [],
   "source": [
    "def chastoty_bukv(tekst):\n",
    "    N = len(tekst)\n",
    "    counts = Counter(tekst)\n",
    "    freq = {sym: count / N for sym, count in counts.items()}\n",
    "    return freq, counts, N\n",
    "\n",
    "def chastoty_bigram_overlapping(tekst):\n",
    "    bigrams = [tekst[i:i+2] for i in range(len(tekst) - 1)]\n",
    "    N = len(bigrams)\n",
    "    counts = Counter(bigrams)\n",
    "    freq = {bg: count / N for bg, count in counts.items()}\n",
    "    return freq, counts, N\n",
    "\n",
    "def chastoty_bigram_non_overlapping(tekst):\n",
    "    bigrams = [tekst[i:i+2] for i in range(0, len(tekst) - 1, 2)]\n",
    "    N = len(bigrams)\n",
    "    counts = Counter(bigrams)\n",
    "    freq = {bg: count / N for bg, count in counts.items()}\n",
    "    return freq, counts, N\n",
    "\n",
    "def entropiya(freq_dict, n=1):\n",
    "    return -sum(p * math.log2(p) for p in freq_dict.values() if p > 0) / n"
   ]
  },
  {
   "cell_type": "markdown",
   "id": "99365956",
   "metadata": {},
   "source": [
    "Обчислення H1 та H2, R1 та R2 з пробілами"
   ]
  },
  {
   "cell_type": "code",
   "execution_count": null,
   "id": "9e585665",
   "metadata": {},
   "outputs": [
    {
     "name": "stdout",
     "output_type": "stream",
     "text": [
      "H1 (з пробілами): 4.346580\n",
      "H2 (з пробілами): 3.898952\n",
      "Максимальна ентропія H0 (без пробілів): 5.000000\n",
      "Надлишковість R1 (з пробілами): 0.130684 = 13.07%\n",
      "Надлишковість R2 (з пробілами): 0.220210 = 22.02%)\n"
     ]
    }
   ],
   "source": [
    "\n",
    "freq_letters_spaces, counts_letters_spaces, N_letters_spaces = chastoty_bukv(koranchik_z_probilamy)\n",
    "H1_spaces = entropiya(freq_letters_spaces)\n",
    "\n",
    "freq_bigrams_ov_spaces, counts_bigrams_ov_spaces, N_bigrams_ov_spaces = chastoty_bigram_overlapping(koranchik_z_probilamy)\n",
    "H2_ov_spaces = entropiya(freq_bigrams_ov_spaces, n=2)\n",
    "\n",
    "freq_bigrams_non_ov_spaces, counts_bigrams_non_ov_spaces, N_bigrams_non_ov_spaces = chastoty_bigram_non_overlapping(koranchik_z_probilamy)\n",
    "H2_non_ov_spaces = entropiya(freq_bigrams_non_ov_spaces, n=2)\n",
    "\n",
    "m_spaces = len(freq_letters_spaces)\n",
    "H0_spaces = math.log2(m_spaces)\n",
    "R1_spaces = 1 - (H1_spaces / H0_spaces)\n",
    "R2_ov_spaces = 1 - (H2_ov_spaces / H0_spaces)\n",
    "R2_non_ov_spaces = 1 - (H2_non_ov_spaces / H0_spaces)\n",
    "\n",
    "print(\"--- Результати для тексту з пробілами ---\")\n",
    "print(f\"Максимальна ентропія H0: {H0_spaces:.6f}\")\n",
    "print(f\"Ентропія H1: {H1_spaces:.6f}\")\n",
    "print(f\"Надлишковість R1: {R1_spaces:.6f} = {R1_spaces:.2%}\\n\")\n",
    "\n",
    "print(f\"Ентропія H2 (біграми, що перетинаються): {H2_ov_spaces:.6f}\")\n",
    "print(f\"Надлишковість R2 (біграми, що перетинаються): {R2_ov_spaces:.6f} = {R2_ov_spaces:.2%}\\n\")\n",
    "\n",
    "print(f\"Ентропія H2 (біграми, що не перетинаються): {H2_non_ov_spaces:.6f}\")\n",
    "print(f\"Надлишковість R2 (біграми, що не перетинаються): {R2_non_ov_spaces:.6f} = {R2_non_ov_spaces:.2%}\")"
   ]
  },
  {
   "cell_type": "markdown",
   "id": "01ab4763",
   "metadata": {},
   "source": [
    "Обчислення H1 та H2, R1 та R2 без пробілів"
   ]
  },
  {
   "cell_type": "code",
   "execution_count": null,
   "id": "c27445c5",
   "metadata": {},
   "outputs": [
    {
     "name": "stdout",
     "output_type": "stream",
     "text": [
      "H1 (без пробілів): 4.346580\n",
      "H2 (без пробілів): 3.898952\n",
      "Максимальна ентропія H0 (без пробілів): 4.954196\n",
      "Надлишковість R1 (без пробілів): 0.105688 = 10.57%\n",
      "Надлишковість R2 (без пробілів): 0.176250 = 17.62%\n"
     ]
    }
   ],
   "source": [
    "freq_letters_ns, counts_letters_ns, N_letters_ns = chastoty_bukv(koranchik_bez_probiliv)\n",
    "H1_no_spaces = entropiya(freq_letters_ns)\n",
    "\n",
    "freq_bigrams_ov_ns, counts_bigrams_ov_ns, N_bigrams_ov_ns = chastoty_bigram_overlapping(koranchik_bez_probiliv)\n",
    "H2_ov_no_spaces = entropiya(freq_bigrams_ov_ns, n=2)\n",
    "\n",
    "freq_bigrams_non_ov_ns, counts_bigrams_non_ov_ns, N_bigrams_non_ov_ns = chastoty_bigram_non_overlapping(koranchik_bez_probiliv)\n",
    "H2_non_ov_no_spaces = entropiya(freq_bigrams_non_ov_ns, n=2)\n",
    "\n",
    "m_no_spaces = len(freq_letters_ns)\n",
    "H0_no_spaces = math.log2(m_no_spaces)\n",
    "\n",
    "R1_no_spaces = 1 - (H1_no_spaces / H0_no_spaces)\n",
    "R2_ov_no_spaces = 1 - (H2_ov_no_spaces / H0_no_spaces)\n",
    "R2_non_ov_no_spaces = 1 - (H2_non_ov_no_spaces / H0_no_spaces)\n",
    "\n",
    "print(\"\\n--- Результати для тексту без пробілів ---\")\n",
    "print(f\"Максимальна ентропія H0: {H0_no_spaces:.6f}\")\n",
    "print(f\"Ентропія H1: {H1_no_spaces:.6f}\")\n",
    "print(f\"Надлишковість R1: {R1_no_spaces:.6f} = {R1_no_spaces:.2%}\\n\")\n",
    "\n",
    "print(f\"Ентропія H2 (біграми, що перетинаються): {H2_ov_no_spaces:.6f}\")\n",
    "print(f\"Надлишковість R2 (біграми, що перетинаються): {R2_ov_no_spaces:.6f} = {R2_ov_no_spaces:.2%}\\n\")\n",
    "\n",
    "print(f\"Ентропія H2 (біграми, що не перетинаються): {H2_non_ov_no_spaces:.6f}\")\n",
    "print(f\"Надлишковість R2 (біграми, що не перетинаються): {R2_non_ov_no_spaces:.6f} = {R2_non_ov_no_spaces:.2%}\")"
   ]
  },
  {
   "cell_type": "markdown",
   "id": "2f0d7db0",
   "metadata": {},
   "source": [
    "Збереження в ексель"
   ]
  },
  {
   "cell_type": "code",
   "execution_count": null,
   "id": "05853e54",
   "metadata": {},
   "outputs": [
    {
     "name": "stdout",
     "output_type": "stream",
     "text": [
      "Усі таблиці збережено частот та біграм збережено\n"
     ]
    }
   ],
   "source": [
    "import pandas as pd\n",
    "\n",
    "df_letters_spaces = pd.DataFrame(\n",
    "    [(sym, counts_letters_spaces[sym], freq_letters_spaces[sym]) for sym in freq_letters_spaces],\n",
    "    columns=[\"Символ\", \"Кількість\", \"Частота\"]\n",
    ").sort_values(by=\"Частота\", ascending=False)\n",
    "\n",
    "df_letters_no_spaces = pd.DataFrame(\n",
    "    [(sym, counts_letters_ns[sym], freq_letters_ns[sym]) for sym in freq_letters_ns],\n",
    "    columns=[\"Символ\", \"Кількість\", \"Частота\"]\n",
    ").sort_values(by=\"Частота\", ascending=False)\n",
    "\n",
    "df_bigrams_ov_spaces = pd.DataFrame(\n",
    "    [(bg, counts_bigrams_ov_spaces[bg], freq_bigrams_ov_spaces[bg]) for bg in freq_bigrams_ov_spaces],\n",
    "    columns=[\"Біграма\", \"Кількість\", \"Частота\"]\n",
    ").sort_values(by=\"Частота\", ascending=False)\n",
    "\n",
    "df_bigrams_ov_ns = pd.DataFrame(\n",
    "    [(bg, counts_bigrams_ov_ns[bg], freq_bigrams_ov_ns[bg]) for bg in freq_bigrams_ov_ns],\n",
    "    columns=[\"Біграма\", \"Кількість\", \"Частота\"]\n",
    ").sort_values(by=\"Частота\", ascending=False)\n",
    "\n",
    "df_bigrams_non_ov_spaces = pd.DataFrame(\n",
    "    [(bg, counts_bigrams_non_ov_spaces[bg], freq_bigrams_non_ov_spaces[bg]) for bg in freq_bigrams_non_ov_spaces],\n",
    "    columns=[\"Біграма\", \"Кількість\", \"Частота\"]\n",
    ").sort_values(by=\"Частота\", ascending=False)\n",
    "\n",
    "df_bigrams_non_ov_ns = pd.DataFrame(\n",
    "    [(bg, counts_bigrams_non_ov_ns[bg], freq_bigrams_non_ov_ns[bg]) for bg in freq_bigrams_non_ov_ns],\n",
    "    columns=[\"Біграма\", \"Кількість\", \"Частота\"]\n",
    ").sort_values(by=\"Частота\", ascending=False)\n",
    "\n",
    "\n",
    "df_letters_spaces.to_excel(\"letters_with_spaces.xlsx\", index=False)\n",
    "df_letters_no_spaces.to_excel(\"letters_no_spaces.xlsx\", index=False)\n",
    "\n",
    "df_bigrams_ov_spaces.to_excel(\"bigrams_overlapping_spaces.xlsx\", index=False)\n",
    "df_bigrams_ov_ns.to_excel(\"bigrams_overlapping_no_spaces.xlsx\", index=False)\n",
    "\n",
    "df_bigrams_non_ov_spaces.to_excel(\"bigrams_non_overlapping_spaces.xlsx\", index=False)\n",
    "df_bigrams_non_ov_ns.to_excel(\"bigrams_non_overlapping_no_spaces.xlsx\", index=False)\n",
    "\n",
    "print(\"Усі таблиці частот для букв та біграм збережено.\")"
   ]
  },
  {
   "cell_type": "markdown",
   "id": "564fa2be",
   "metadata": {},
   "source": [
    "Матриці"
   ]
  },
  {
   "cell_type": "code",
   "execution_count": null,
   "id": "4f1dc299",
   "metadata": {},
   "outputs": [
    {
     "name": "stdout",
     "output_type": "stream",
     "text": [
      "Матриці біграм збережено\n"
     ]
    }
   ],
   "source": [
    "def bigram_matrica(counts, N):\n",
    "    symbols = sorted(list(counts_letters_spaces.keys())) \n",
    "    matrix = pd.DataFrame(0.0, index=symbols, columns=symbols)\n",
    "\n",
    "    for bg, cnt in counts.items():\n",
    "        if len(bg) == 2:\n",
    "            a, b = bg[0], bg[1]\n",
    "            if a in symbols and b in symbols:\n",
    "                 matrix.at[a, b] = cnt / N\n",
    "    return matrix\n",
    "\n",
    "matrix_ov_spaces = bigram_matrica(counts_bigrams_ov_spaces, N_bigrams_ov_spaces)\n",
    "matrix_ov_no_spaces = bigram_matrica(counts_bigrams_ov_ns, N_bigrams_ov_ns)\n",
    "\n",
    "matrix_non_ov_spaces = bigram_matrica(counts_bigrams_non_ov_spaces, N_bigrams_non_ov_spaces)\n",
    "matrix_non_ov_no_spaces = bigram_matrica(counts_bigrams_non_ov_ns, N_bigrams_non_ov_ns)\n",
    "\n",
    "\n",
    "matrix_ov_spaces.to_excel(\"bigram_matrix_overlapping_spaces.xlsx\")\n",
    "matrix_ov_no_spaces.to_excel(\"bigram_matrix_overlapping_no_spaces.xlsx\")\n",
    "matrix_non_ov_spaces.to_excel(\"bigram_matrix_non_overlapping_spaces.xlsx\")\n",
    "matrix_non_ov_no_spaces.to_excel(\"bigram_matrix_non_overlapping_no_spaces.xlsx\")\n",
    "\n",
    "print(\"Матриці для обох типів біграм збережено\")"
   ]
  }
 ],
 "metadata": {
  "kernelspec": {
   "display_name": "lab2",
   "language": "python",
   "name": "python3"
  },
  "language_info": {
   "codemirror_mode": {
    "name": "ipython",
    "version": 3
   },
   "file_extension": ".py",
   "mimetype": "text/x-python",
   "name": "python",
   "nbconvert_exporter": "python",
   "pygments_lexer": "ipython3",
   "version": "3.12.5"
  }
 },
 "nbformat": 4,
 "nbformat_minor": 5
}
